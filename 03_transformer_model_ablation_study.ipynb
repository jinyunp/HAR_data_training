{
 "cells": [
  {
   "cell_type": "markdown",
   "metadata": {},
   "source": [
    "2023.05.22 박진윤 선임연구원, 태안군 인공지능유합산업진흥원"
   ]
  },
  {
   "cell_type": "markdown",
   "metadata": {},
   "source": [
    "## 작업환경 확인"
   ]
  },
  {
   "cell_type": "code",
   "execution_count": 1,
   "metadata": {},
   "outputs": [
    {
     "name": "stdout",
     "output_type": "stream",
     "text": [
      "/tf/repos/07_HomeTraining/230208_jy\r\n"
     ]
    }
   ],
   "source": [
    "# 현재 위치 확인\n",
    "!pwd"
   ]
  },
  {
   "cell_type": "code",
   "execution_count": 2,
   "metadata": {},
   "outputs": [],
   "source": [
    "# 학습 할때 몇 번째 gpu를 사용할것인지 설정\n",
    "import os\n",
    "os.environ[\"CUDA_DEVICE_ORDER\"]=\"PCI_BUS_ID\"\n",
    "os.environ[\"CUDA_VISIBLE_DEVICES\"]=\"2\"  # specify which GPU(s) to be used"
   ]
  },
  {
   "cell_type": "code",
   "execution_count": 3,
   "metadata": {},
   "outputs": [
    {
     "name": "stdout",
     "output_type": "stream",
     "text": [
      "/tf/repos/07_HomeTraining/230208_jy\n"
     ]
    }
   ],
   "source": [
    "# 경고 무시\n",
    "import warnings\n",
    "warnings.filterwarnings('ignore')\n",
    "curdir = os.getcwd()\n",
    "print(curdir)"
   ]
  },
  {
   "cell_type": "code",
   "execution_count": 4,
   "metadata": {},
   "outputs": [
    {
     "name": "stdout",
     "output_type": "stream",
     "text": [
      "f1b2c6893cf4\n"
     ]
    }
   ],
   "source": [
    "# 서버 이름\n",
    "import socket\n",
    "hostname = socket.gethostname()\n",
    "print(hostname)"
   ]
  },
  {
   "cell_type": "code",
   "execution_count": 5,
   "metadata": {},
   "outputs": [],
   "source": [
    "def createFolder(directory):\n",
    "    try:\n",
    "        if os.path.exists(directory):\n",
    "            print('Already Exists')\n",
    "        if not os.path.exists(directory):\n",
    "            os.makedirs(directory)\n",
    "            print('Sucess creating directory.' + directory)\n",
    "    except OSError:\n",
    "        print ('Error: Creating directory. ' +  directory)"
   ]
  },
  {
   "cell_type": "markdown",
   "metadata": {},
   "source": [
    "## 필요 라이브러리 import"
   ]
  },
  {
   "cell_type": "code",
   "execution_count": 6,
   "metadata": {},
   "outputs": [],
   "source": [
    "import sys\n",
    "sys.path.append(os.pardir)\n",
    "sys.path.append('./common')"
   ]
  },
  {
   "cell_type": "code",
   "execution_count": 7,
   "metadata": {},
   "outputs": [
    {
     "name": "stderr",
     "output_type": "stream",
     "text": [
      "Matplotlib created a temporary config/cache directory at /tmp/matplotlib-n9h2vq9p because the default path (/.config/matplotlib) is not a writable directory; it is highly recommended to set the MPLCONFIGDIR environment variable to a writable directory, in particular to speed up the import of Matplotlib and to better support multiprocessing.\n"
     ]
    }
   ],
   "source": [
    "%matplotlib inline\n",
    "import glob\n",
    "import tensorflow as tf\n",
    "import numpy as np\n",
    "import pandas as pd\n",
    "import time\n",
    "from tqdm import tqdm \n",
    "import pickle\n",
    "from sklearn.model_selection import train_test_split\n",
    "\n",
    "from Quaternion import *\n",
    "from  DDUtil import GetTimeString\n",
    "from  DDUtil import MakeDir\n",
    "from  DDUtil import *\n",
    "from DataSet2 import skipper\n",
    "from DataSet2 import NormalizeData\n",
    "from DataSet2 import GetSizeForBatch\n",
    "import DataSet2\n",
    "import DataSet2 as motion"
   ]
  },
  {
   "cell_type": "code",
   "execution_count": 8,
   "metadata": {},
   "outputs": [],
   "source": [
    "from transformer import MultiHeadSelfAttention\n",
    "from transformer import TransformerBlock\n",
    "#from transformer import TokenAndPositionEmbedding\n",
    "from transformer import TokenAndPositionEmbedding2"
   ]
  },
  {
   "cell_type": "code",
   "execution_count": 9,
   "metadata": {},
   "outputs": [],
   "source": [
    "from tensorflow import keras\n",
    "from tensorflow.keras import layers\n",
    "from tensorflow.keras.models import load_model\n",
    "from tensorflow.keras.models import Sequential\n",
    "from tensorflow.keras.layers import Dense, Input, Bidirectional\n",
    "from tensorflow.keras.layers import Flatten, Masking, Add\n",
    "\n",
    "from tensorflow.keras.layers import Dropout, BatchNormalization, Activation\n",
    "from tensorflow.keras.layers import LSTM, GRU\n",
    "from tensorflow.keras.layers import Concatenate\n",
    "from tensorflow.keras.layers import SimpleRNN, AveragePooling1D, GlobalMaxPooling1D\n",
    "from tensorflow.keras.utils import to_categorical\n",
    "from tensorflow.keras.layers import Conv1D, GlobalAveragePooling1D, MaxPooling1D\n",
    "from tensorflow.keras.models import Model\n",
    "from tensorflow.keras.optimizers import Adam\n",
    "from tensorflow.keras.callbacks import ModelCheckpoint, LearningRateScheduler\n",
    "from tensorflow.keras.callbacks import ReduceLROnPlateau\n",
    "\n",
    "from tensorflow.keras.callbacks import Callback\n",
    "from tensorflow.keras import backend as K"
   ]
  },
  {
   "cell_type": "code",
   "execution_count": 10,
   "metadata": {},
   "outputs": [],
   "source": [
    "from Attention import Attention\n",
    "\n",
    "from sklearn.model_selection import KFold\n",
    "from sklearn.metrics import f1_score\n",
    "import random\n",
    "import math"
   ]
  },
  {
   "cell_type": "code",
   "execution_count": 11,
   "metadata": {},
   "outputs": [],
   "source": [
    "from sklearn.metrics import roc_curve, auc\n",
    "from sklearn.metrics import roc_auc_score\n",
    "\n",
    "from sklearn.preprocessing import LabelBinarizer\n",
    "# from keras_flops import get_flops #pip install keras-flops"
   ]
  },
  {
   "cell_type": "code",
   "execution_count": 12,
   "metadata": {},
   "outputs": [
    {
     "name": "stdout",
     "output_type": "stream",
     "text": [
      "20230810_043631\n"
     ]
    }
   ],
   "source": [
    "tstring = GetTimeString()\n",
    "print(tstring)"
   ]
  },
  {
   "cell_type": "code",
   "execution_count": 13,
   "metadata": {},
   "outputs": [],
   "source": [
    "np.random.seed(1214)"
   ]
  },
  {
   "cell_type": "code",
   "execution_count": 14,
   "metadata": {
    "scrolled": true
   },
   "outputs": [
    {
     "name": "stdout",
     "output_type": "stream",
     "text": [
      "2.8.0\n"
     ]
    }
   ],
   "source": [
    "# 텐서플로우 버전이 2.3.0 이 아니면 중단\n",
    "print(tf.__version__)\n",
    "# assert tf.__version__=='2.3.0'"
   ]
  },
  {
   "cell_type": "markdown",
   "metadata": {},
   "source": [
    "## 데이터 불러오기"
   ]
  },
  {
   "cell_type": "code",
   "execution_count": 15,
   "metadata": {},
   "outputs": [
    {
     "name": "stdout",
     "output_type": "stream",
     "text": [
      "./pickle/0531_elderly_youtube_class4_len_all_pub.pickle\n"
     ]
    }
   ],
   "source": [
    "outdir_pickle = './pickle'\n",
    "fn_pickle_pub = '{}/0531_elderly_youtube_class4_len_all_pub.pickle'.format(outdir_pickle)\n",
    "print(fn_pickle_pub)"
   ]
  },
  {
   "cell_type": "code",
   "execution_count": 16,
   "metadata": {},
   "outputs": [
    {
     "name": "stdout",
     "output_type": "stream",
     "text": [
      "This notebook is working on elderly dataset\n"
     ]
    }
   ],
   "source": [
    "# change all the necessary information for the according dataset\n",
    "dataset_name = fn_pickle_pub.split('/')[-1].split('_')[1]\n",
    "print(f'This notebook is working on {dataset_name} dataset')\n",
    "\n",
    "if dataset_name == 'UTK':\n",
    "    spine_joint_index = 1 \n",
    "    num_joints = 20\n",
    "    nbsample_crop = 70 \n",
    "    right_hip_joint_index = 16\n",
    "    left_hip_joint_index = 12\n",
    "    mid_hip_joint_index = 0\n",
    "    neck_joint_index = 2\n",
    "elif dataset_name == 'FLO':\n",
    "    spine_joint_index = 2 \n",
    "    num_joints = 15\n",
    "    nbsample_crop = 35 \n",
    "    right_hip_joint_index = 12\n",
    "    left_hip_joint_index = 9\n",
    "    mid_hip_joint_index = 2\n",
    "    neck_joint_index = 1\n",
    "elif dataset_name == 'MSRA':\n",
    "    spine_joint_index = 1\n",
    "    num_joints = 20\n",
    "    nbsample_crop = 70 \n",
    "    right_hip_joint_index = 4\n",
    "    left_hip_joint_index = 5\n",
    "    mid_hip_joint_index = 6\n",
    "    neck_joint_index = 2\n",
    "elif dataset_name == 'elderly':\n",
    "    spine_joint_index = 7 \n",
    "    num_joints = 17\n",
    "    nbsample_crop = 60 \n",
    "    right_hip_joint_index = 1\n",
    "    left_hip_joint_index = 4\n",
    "    mid_hip_joint_index = 0\n",
    "    neck_joint_index = 8\n",
    "else: #H36M\n",
    "    spine_joint_index = 7 \n",
    "    num_joints = 17\n",
    "    nbsample_crop = 100 \n",
    "    right_hip_joint_index = 1\n",
    "    left_hip_joint_index = 4\n",
    "    mid_hip_joint_index = 0\n",
    "    neck_joint_index = 8\n",
    "\n",
    "seq_length = nbsample_crop\n",
    "pad_value = 0"
   ]
  },
  {
   "cell_type": "code",
   "execution_count": 17,
   "metadata": {},
   "outputs": [
    {
     "name": "stdout",
     "output_type": "stream",
     "text": [
      "Already Exists\n"
     ]
    }
   ],
   "source": [
    "createFolder(f'./out/{dataset_name}/')"
   ]
  },
  {
   "cell_type": "code",
   "execution_count": 18,
   "metadata": {},
   "outputs": [],
   "source": [
    "loadFromPickle = True  #True #False"
   ]
  },
  {
   "cell_type": "code",
   "execution_count": 19,
   "metadata": {},
   "outputs": [
    {
     "name": "stdout",
     "output_type": "stream",
     "text": [
      "./pickle/0531_elderly_youtube_class4_len_all_pub.pickle exists....OK\n",
      "load from pickle files\n",
      "(5,)\n"
     ]
    }
   ],
   "source": [
    "if loadFromPickle:\n",
    "    if os.path.exists(fn_pickle_pub):\n",
    "        print('{} exists....OK'.format(fn_pickle_pub))\n",
    "\n",
    "        print('load from pickle files')\n",
    "        file = open(fn_pickle_pub, 'rb')\n",
    "        data = pickle.load(file)\n",
    "        file.close()\n",
    "        print(np.shape(data))\n",
    "        dataset = data[0]\n",
    "        labels = data[1]  \n",
    "        class_name_pub = data[2]  \n",
    "        dname = data[3] \n",
    "        tstring = data[4]"
   ]
  },
  {
   "cell_type": "code",
   "execution_count": 20,
   "metadata": {
    "scrolled": false
   },
   "outputs": [
    {
     "data": {
      "text/plain": [
       "['C00', 'C01', 'C02', 'C03']"
      ]
     },
     "execution_count": 20,
     "metadata": {},
     "output_type": "execute_result"
    }
   ],
   "source": [
    "class_name_pub"
   ]
  },
  {
   "cell_type": "code",
   "execution_count": 21,
   "metadata": {},
   "outputs": [
    {
     "data": {
      "text/plain": [
       "4"
      ]
     },
     "execution_count": 21,
     "metadata": {},
     "output_type": "execute_result"
    }
   ],
   "source": [
    "n_classes = len(class_name_pub)\n",
    "n_classes"
   ]
  },
  {
   "cell_type": "code",
   "execution_count": 22,
   "metadata": {},
   "outputs": [
    {
     "data": {
      "text/plain": [
       "((60, 51), (4,))"
      ]
     },
     "execution_count": 22,
     "metadata": {},
     "output_type": "execute_result"
    }
   ],
   "source": [
    "np.shape(dataset[0]), np.shape(labels[0])"
   ]
  },
  {
   "cell_type": "code",
   "execution_count": 23,
   "metadata": {},
   "outputs": [],
   "source": [
    "class MyPaddingSeq3d():\n",
    "    def __init__(self, maxlen=None, pad_value=0.0):\n",
    "        super(MyPaddingSeq3d, self).__init__()\n",
    "        self.maxlen  = maxlen \n",
    "        self.pad_value = pad_value\n",
    "    \n",
    "    def ddd(self, sequences):\n",
    "        sequences_out = []\n",
    "        \n",
    "        seq_num = len(sequences)\n",
    "        print(seq_num)\n",
    "        for i in range(seq_num):\n",
    "            seq_1 = sequences[i]\n",
    "            seq_1 = list(seq_1)\n",
    "            #print(len(seq_1))\n",
    "            dim = np.shape(seq_1[-1])[0]\n",
    "            if len(seq_1) < self.maxlen:\n",
    "                p = np.full((self.maxlen - len(seq_1), dim), self.pad_value)\n",
    "                s = np.vstack((seq_1, p))\n",
    "                sequences_out.append(s)\n",
    "                \n",
    "            elif len(seq_1) >= self.maxlen:\n",
    "                x = seq_1[:self.maxlen]\n",
    "                sequences_out.append(x)\n",
    "            \n",
    "        return np.array(sequences_out)"
   ]
  },
  {
   "cell_type": "code",
   "execution_count": 24,
   "metadata": {},
   "outputs": [],
   "source": [
    "pad = MyPaddingSeq3d(maxlen = nbsample_crop, pad_value = pad_value)"
   ]
  },
  {
   "cell_type": "code",
   "execution_count": 25,
   "metadata": {},
   "outputs": [
    {
     "name": "stdout",
     "output_type": "stream",
     "text": [
      "not padded\n"
     ]
    }
   ],
   "source": [
    "if dataset_name in['MSRA', 'FLO', 'UTK']:\n",
    "    padded_data = pad.ddd(dataset)\n",
    "    print('padded')\n",
    "else:\n",
    "    padded_data = dataset.copy()\n",
    "    print('not padded')"
   ]
  },
  {
   "cell_type": "markdown",
   "metadata": {},
   "source": [
    "``` python\n",
    "((14280, 100, 75), (14280, 10), (6243, 100, 75), (6243, 10))\n",
    "```"
   ]
  },
  {
   "cell_type": "code",
   "execution_count": 26,
   "metadata": {},
   "outputs": [
    {
     "data": {
      "text/plain": [
       "((1265, 60, 51), (1265, 4))"
      ]
     },
     "execution_count": 26,
     "metadata": {},
     "output_type": "execute_result"
    }
   ],
   "source": [
    "np.shape(padded_data), np.shape(labels)"
   ]
  },
  {
   "cell_type": "code",
   "execution_count": 27,
   "metadata": {},
   "outputs": [
    {
     "data": {
      "text/plain": [
       "(1265, 60, 3)"
      ]
     },
     "execution_count": 27,
     "metadata": {},
     "output_type": "execute_result"
    }
   ],
   "source": [
    "np.shape(padded_data[:, :, 1:1*4])"
   ]
  },
  {
   "cell_type": "code",
   "execution_count": 28,
   "metadata": {
    "scrolled": true
   },
   "outputs": [
    {
     "data": {
      "text/plain": [
       "(60, 51)"
      ]
     },
     "execution_count": 28,
     "metadata": {},
     "output_type": "execute_result"
    }
   ],
   "source": [
    "padded_data[0].shape"
   ]
  },
  {
   "cell_type": "code",
   "execution_count": 29,
   "metadata": {},
   "outputs": [
    {
     "name": "stdout",
     "output_type": "stream",
     "text": [
      "0 C00\n",
      "1 C01\n",
      "2 C02\n",
      "3 C03\n"
     ]
    }
   ],
   "source": [
    "for i in range(len(class_name_pub)):\n",
    "    print(i, class_name_pub[i])"
   ]
  },
  {
   "cell_type": "markdown",
   "metadata": {},
   "source": [
    "```\n",
    "(AS1) Horizontal arm wave, hammer, forward punch, high throw, hand clap, bend, tennis serve, pickup & throw \n",
    "\n",
    "(AS2) high arm wave, hand catch, draw x, draw tick, draw circle, two hand wave, forward kick, side boxing \n",
    "\n",
    "(AS3) high thorw, forward kick, side kick, jogging, tennis swing, tennis serve, gold swing, pickup & throw\n",
    "```"
   ]
  },
  {
   "cell_type": "code",
   "execution_count": 30,
   "metadata": {},
   "outputs": [],
   "source": [
    "case = 'AS2'"
   ]
  },
  {
   "cell_type": "code",
   "execution_count": 31,
   "metadata": {},
   "outputs": [
    {
     "name": "stdout",
     "output_type": "stream",
     "text": [
      "passed on choosing action set\n"
     ]
    }
   ],
   "source": [
    "if dataset_name == 'MSRA':\n",
    "    if case == 'AS1':\n",
    "        idx = [12, 7, 4, 11, 9, 0, 17, 14]\n",
    "    elif case == 'AS2':\n",
    "        idx = [10, 8, 3, 2, 1, 19, 5, 15]\n",
    "    elif case == 'AS3':\n",
    "        idx = [11, 5, 16, 13, 17, 18, 6, 14]\n",
    "\n",
    "    print(idx)\n",
    "else:\n",
    "    case = 'None'\n",
    "    print('passed on choosing action set')"
   ]
  },
  {
   "cell_type": "code",
   "execution_count": 32,
   "metadata": {},
   "outputs": [
    {
     "name": "stdout",
     "output_type": "stream",
     "text": [
      "-------------------------------------------\n",
      "selected actions (1265, 60, 51) (1265, 4)\n"
     ]
    }
   ],
   "source": [
    "k = 0\n",
    "for sample in range(len(padded_data)):\n",
    "    if dataset_name == 'MSRA':\n",
    "        if np.argmax(labels[sample]) in idx:\n",
    "            temp = [padded_data[sample]]\n",
    "            lbl = labels[sample]\n",
    "    #         print(np.shape(temp))\n",
    "        else:\n",
    "            continue\n",
    "    else:\n",
    "        temp = [padded_data[sample]]\n",
    "        lbl = labels[sample]\n",
    "        \n",
    "    if k == 0:\n",
    "        temp_stack = temp\n",
    "        lbl_stack = lbl\n",
    "        k+=1\n",
    "    else:\n",
    "        temp_stack = np.vstack((temp_stack, temp))\n",
    "        lbl_stack = np.vstack((lbl_stack, lbl))\n",
    "\n",
    "padded_data_case = temp_stack\n",
    "labels_case = lbl_stack\n",
    "print('-------------------------------------------')\n",
    "print('selected actions', np.shape(padded_data_case), np.shape(labels_case))"
   ]
  },
  {
   "cell_type": "code",
   "execution_count": 33,
   "metadata": {},
   "outputs": [
    {
     "data": {
      "text/plain": [
       "51"
      ]
     },
     "execution_count": 33,
     "metadata": {},
     "output_type": "execute_result"
    }
   ],
   "source": [
    "datadim = np.shape(padded_data_case[0])[-1]\n",
    "datadim"
   ]
  },
  {
   "cell_type": "code",
   "execution_count": 34,
   "metadata": {},
   "outputs": [
    {
     "name": "stdout",
     "output_type": "stream",
     "text": [
      "60 51 4\n"
     ]
    }
   ],
   "source": [
    "n_timesteps, n_features, n_outputs = seq_length, datadim, n_classes\n",
    "print(n_timesteps, n_features, n_outputs)"
   ]
  },
  {
   "cell_type": "markdown",
   "metadata": {},
   "source": [
    "## 학습"
   ]
  },
  {
   "cell_type": "code",
   "execution_count": 35,
   "metadata": {},
   "outputs": [],
   "source": [
    "to_Train = True"
   ]
  },
  {
   "cell_type": "code",
   "execution_count": 37,
   "metadata": {},
   "outputs": [],
   "source": [
    "training_epochs = 100"
   ]
  },
  {
   "cell_type": "code",
   "execution_count": 38,
   "metadata": {},
   "outputs": [],
   "source": [
    "# 221226\n",
    "# https://velog.io/@noooooh_042/논문-구현GoogleNetv1\n",
    "def inception(x_in, x1_f,x3r_f,x3_f,x5r_f,x5_f,po):\n",
    "    x1 = MaxPooling1D(pool_size=3,strides=1,padding = 'SAME')(x_in)\n",
    "    x1 = Conv1D(filters= po,kernel_size=1,padding=\"SAME\")(x1)\n",
    "    x1 = Activation('relu')(x1)\n",
    "\n",
    "    x2 = Conv1D(filters=x5r_f,kernel_size=1,padding=\"SAME\")(x_in)\n",
    "    x2 = Conv1D(filters=x5_f,kernel_size=5,padding=\"SAME\")(x2)\n",
    "    x2 = Activation('relu')(x2)\n",
    "\n",
    "    x3 = Conv1D(filters=x3r_f,kernel_size=1,padding=\"SAME\")(x_in)\n",
    "    x3 = Conv1D(filters=x3_f,kernel_size=3,padding=\"SAME\")(x3)\n",
    "    x3 = Activation('relu')(x3)\n",
    "\n",
    "    x4 = Conv1D(filters=x1_f,kernel_size=1,padding=\"SAME\")(x_in)\n",
    "    x4 = Activation('relu')(x4)\n",
    "\n",
    "    out = Concatenate()([x1,x2,x3,x4])\n",
    "    return out"
   ]
  },
  {
   "cell_type": "code",
   "execution_count": 39,
   "metadata": {},
   "outputs": [
    {
     "data": {
      "text/plain": [
       "4"
      ]
     },
     "execution_count": 39,
     "metadata": {},
     "output_type": "execute_result"
    }
   ],
   "source": [
    "n_outputs"
   ]
  },
  {
   "cell_type": "markdown",
   "metadata": {},
   "source": [
    "https://github.com/keras-team/keras-io/blob/master/examples/nlp/text_classification_with_transformer.py https://keras.io/examples/nlp/text_classification_with_transformer/"
   ]
  },
  {
   "cell_type": "code",
   "execution_count": 53,
   "metadata": {},
   "outputs": [],
   "source": [
    "# 원본\n",
    "def make_transformer(maxlen, data_dim, embed_dim, num_heads, ff_dim, return_logit_only=False, return_weights=False):\n",
    "    #maxlen =  200  # Only consider the first 200 words of each movie review\n",
    "    # data_dim = 6\n",
    "    #inputs = layers.Input(shape=(maxlen,))\n",
    "    \n",
    "    inputs = layers.Input(shape=(maxlen, data_dim )) \n",
    "    if False:\n",
    "        embedding_layer = TokenAndPositionEmbedding(maxlen, vocab_size, embed_dim)\n",
    "        x = embedding_layer(inputs)\n",
    "    else:\n",
    "\n",
    "        embedding_layer = TokenAndPositionEmbedding2(maxlen, embed_dim) #100,  32 (<--- was 6)\n",
    "        x = embedding_layer(inputs)\n",
    "        #x = layers.Dense(embed_dim, activation=\"relu\")(inputs)\n",
    "\n",
    "\n",
    "    transformer_block = TransformerBlock(embed_dim, num_heads, ff_dim)\n",
    "    vattn_weights =[]\n",
    "    if return_weights:\n",
    "        x, attn_weights1 = transformer_block(x,training = True, return_weights = return_weights)#\n",
    "        vattn_weights.append(attn_weights1)\n",
    "        \n",
    "        x, attn_weights2 = transformer_block(x,training=True, return_weights = return_weights)#\n",
    "        vattn_weights.append(attn_weights2)\n",
    "        \n",
    "        x, attn_weights3 = transformer_block(x,training=True, return_weights = return_weights)#\n",
    "        vattn_weights.append(attn_weights3)\n",
    "        \n",
    "        x, attn_weights4 = transformer_block(x,training=True, return_weights = return_weights)#\n",
    "        vattn_weights.append(attn_weights4)\n",
    "        \n",
    "    else:\n",
    "        x = transformer_block(x,training = True, return_weights = return_weights)#\n",
    "\n",
    "        x = transformer_block(x,training=True, return_weights = return_weights)#\n",
    "        x = transformer_block(x,training=True, return_weights = return_weights)\n",
    "        x = transformer_block(x,training=True, return_weights = return_weights)\n",
    "\n",
    "    x = layers.GlobalAveragePooling1D()(x)\n",
    "    x = layers.Dropout(0.2)(x)   #0.1\n",
    "    #x = layers.Dense(20, activation=\"relu\")(x)\n",
    "    #x = layers.Dropout(0.1)(x)\n",
    "    \n",
    "    if return_logit_only:\n",
    "        outputs = x\n",
    "    else:\n",
    "        outputs = layers.Dense(n_classes, activation=\"softmax\")(x)\n",
    "        \n",
    "    # transformer_block._name\n",
    "    model = keras.Model(inputs=inputs, outputs=outputs)\n",
    "    if return_weights:\n",
    "        \n",
    "        return model, vattn_weights\n",
    "    else:\n",
    "        return model"
   ]
  },
  {
   "cell_type": "code",
   "execution_count": 54,
   "metadata": {},
   "outputs": [],
   "source": [
    "embed_dim = 64 #32 #64 #12 #8 #16 # Embedding size for each token\n",
    "num_heads = 4 #4#1 # Number of attention heads\n",
    "ff_dim = embed_dim*1 #32*2*4  # Hidden layer size in feed forward network inside transformer"
   ]
  },
  {
   "cell_type": "code",
   "execution_count": 55,
   "metadata": {},
   "outputs": [],
   "source": [
    "model, atten_wieghts = make_transformer(nbsample_crop, datadim, embed_dim, num_heads, ff_dim, return_weights = True)"
   ]
  },
  {
   "cell_type": "code",
   "execution_count": 56,
   "metadata": {},
   "outputs": [
    {
     "data": {
      "image/png": "[encoded data removed]",
      "text/plain": [
       "<IPython.core.display.Image object>"
      ]
     },
     "execution_count": 56,
     "metadata": {},
     "output_type": "execute_result"
    }
   ],
   "source": [
    "from tensorflow.keras.utils import plot_model\n",
    "plot_model(model, to_file='./model_transformer.png', show_shapes=True)\n",
    "\n",
    "from IPython.display import Image\n",
    "Image('./model_transformer.png')"
   ]
  },
  {
   "cell_type": "code",
   "execution_count": 44,
   "metadata": {},
   "outputs": [
    {
     "name": "stdout",
     "output_type": "stream",
     "text": [
      "Learning rate:  0.001\n"
     ]
    },
    {
     "data": {
      "text/plain": [
       "0.001"
      ]
     },
     "execution_count": 44,
     "metadata": {},
     "output_type": "execute_result"
    }
   ],
   "source": [
    "lr_schedule(0)"
   ]
  },
  {
   "cell_type": "markdown",
   "metadata": {},
   "source": [
    "##### training - ablation study"
   ]
  },
  {
   "cell_type": "code",
   "execution_count": 45,
   "metadata": {},
   "outputs": [
    {
     "data": {
      "text/plain": [
       "(60, 51)"
      ]
     },
     "execution_count": 45,
     "metadata": {},
     "output_type": "execute_result"
    }
   ],
   "source": [
    "n_timesteps,n_features"
   ]
  },
  {
   "cell_type": "code",
   "execution_count": 46,
   "metadata": {},
   "outputs": [],
   "source": [
    "Augmentation =True\n",
    "ViewNorm = False #whether setting viewnorm for train data\n",
    "aug_count = 20 #2,4,7,10,15,20\n",
    "\n",
    "model_type = 'Transformer' #ResNet, Conv1D, GoogleNet\n",
    "\n",
    "seed_value = 1214\n",
    "batch_size = 16"
   ]
  },
  {
   "cell_type": "code",
   "execution_count": 47,
   "metadata": {},
   "outputs": [
    {
     "data": {
      "text/plain": [
       "((1265, 60, 51), (1265, 4))"
      ]
     },
     "execution_count": 47,
     "metadata": {},
     "output_type": "execute_result"
    }
   ],
   "source": [
    "padded_data_case.shape, labels_case.shape"
   ]
  },
  {
   "cell_type": "code",
   "execution_count": 48,
   "metadata": {},
   "outputs": [],
   "source": [
    "X_train, X_test, y_train, y_test = train_test_split(padded_data_case, \n",
    "                                                    labels_case, \n",
    "                                                    test_size=0.3, \n",
    "                                                    shuffle=True, \n",
    "                                                    random_state=1214)"
   ]
  },
  {
   "cell_type": "code",
   "execution_count": 49,
   "metadata": {},
   "outputs": [
    {
     "data": {
      "text/plain": [
       "((885, 60, 51), (885, 4), (380, 60, 51), (380, 4))"
      ]
     },
     "execution_count": 49,
     "metadata": {},
     "output_type": "execute_result"
    }
   ],
   "source": [
    "X_train.shape, y_train.shape, X_test.shape, y_test.shape"
   ]
  },
  {
   "cell_type": "code",
   "execution_count": 59,
   "metadata": {
    "scrolled": true
   },
   "outputs": [
    {
     "name": "stdout",
     "output_type": "stream",
     "text": [
      "Learning rate:  0.001\n"
     ]
    },
    {
     "name": "stderr",
     "output_type": "stream",
     "text": [
      "WARNING:absl:Found untraced functions such as dense_41_layer_call_fn, dense_41_layer_call_and_return_conditional_losses, embedding_6_layer_call_fn, embedding_6_layer_call_and_return_conditional_losses, multi_head_self_attention_6_layer_call_fn while saving (showing 5 of 22). These functions will not be directly callable after loading.\n"
     ]
    },
    {
     "name": "stdout",
     "output_type": "stream",
     "text": [
      "INFO:tensorflow:Assets written to: ./out/elderly/elderly_Transformer_1heads/assets\n"
     ]
    },
    {
     "name": "stderr",
     "output_type": "stream",
     "text": [
      "INFO:tensorflow:Assets written to: ./out/elderly/elderly_Transformer_1heads/assets\n"
     ]
    },
    {
     "name": "stdout",
     "output_type": "stream",
     "text": [
      "---Testing---\n",
      "12/12 [==============================] - 1s 7ms/step - loss: 0.4591 - accuracy: 0.8658\n",
      "Score: accuracy of 86.57894730567932%\n",
      "Learning rate:  0.001\n"
     ]
    },
    {
     "name": "stderr",
     "output_type": "stream",
     "text": [
      "WARNING:absl:Found untraced functions such as dense_49_layer_call_fn, dense_49_layer_call_and_return_conditional_losses, embedding_7_layer_call_fn, embedding_7_layer_call_and_return_conditional_losses, multi_head_self_attention_7_layer_call_fn while saving (showing 5 of 22). These functions will not be directly callable after loading.\n"
     ]
    },
    {
     "name": "stdout",
     "output_type": "stream",
     "text": [
      "INFO:tensorflow:Assets written to: ./out/elderly/elderly_Transformer_2heads/assets\n"
     ]
    },
    {
     "name": "stderr",
     "output_type": "stream",
     "text": [
      "INFO:tensorflow:Assets written to: ./out/elderly/elderly_Transformer_2heads/assets\n"
     ]
    },
    {
     "name": "stdout",
     "output_type": "stream",
     "text": [
      "---Testing---\n",
      "12/12 [==============================] - 1s 8ms/step - loss: 0.4699 - accuracy: 0.8579\n",
      "Score: accuracy of 85.78947186470032%\n",
      "Learning rate:  0.001\n"
     ]
    },
    {
     "name": "stderr",
     "output_type": "stream",
     "text": [
      "WARNING:absl:Found untraced functions such as dense_57_layer_call_fn, dense_57_layer_call_and_return_conditional_losses, embedding_8_layer_call_fn, embedding_8_layer_call_and_return_conditional_losses, multi_head_self_attention_8_layer_call_fn while saving (showing 5 of 22). These functions will not be directly callable after loading.\n"
     ]
    },
    {
     "name": "stdout",
     "output_type": "stream",
     "text": [
      "INFO:tensorflow:Assets written to: ./out/elderly/elderly_Transformer_4heads/assets\n"
     ]
    },
    {
     "name": "stderr",
     "output_type": "stream",
     "text": [
      "INFO:tensorflow:Assets written to: ./out/elderly/elderly_Transformer_4heads/assets\n"
     ]
    },
    {
     "name": "stdout",
     "output_type": "stream",
     "text": [
      "---Testing---\n",
      "12/12 [==============================] - 1s 8ms/step - loss: 0.4340 - accuracy: 0.8737\n",
      "Score: accuracy of 87.36842274665833%\n",
      "Learning rate:  0.001\n"
     ]
    },
    {
     "name": "stderr",
     "output_type": "stream",
     "text": [
      "WARNING:absl:Found untraced functions such as dense_65_layer_call_fn, dense_65_layer_call_and_return_conditional_losses, embedding_9_layer_call_fn, embedding_9_layer_call_and_return_conditional_losses, multi_head_self_attention_9_layer_call_fn while saving (showing 5 of 22). These functions will not be directly callable after loading.\n"
     ]
    },
    {
     "name": "stdout",
     "output_type": "stream",
     "text": [
      "INFO:tensorflow:Assets written to: ./out/elderly/elderly_Transformer_8heads/assets\n"
     ]
    },
    {
     "name": "stderr",
     "output_type": "stream",
     "text": [
      "INFO:tensorflow:Assets written to: ./out/elderly/elderly_Transformer_8heads/assets\n"
     ]
    },
    {
     "name": "stdout",
     "output_type": "stream",
     "text": [
      "---Testing---\n",
      "12/12 [==============================] - 1s 8ms/step - loss: 0.3306 - accuracy: 0.8974\n",
      "Score: accuracy of 89.73684310913086%\n"
     ]
    }
   ],
   "source": [
    "## ablation study according to number of heads\n",
    "acc = list()\n",
    "\n",
    "for heads in [1,2,4,8]:\n",
    "\n",
    "    embed_dim = 64 \n",
    "    ff_dim = embed_dim*1 \n",
    "\n",
    "    model, atten_wieghts = make_transformer(nbsample_crop, datadim, embed_dim, heads, ff_dim, return_weights = True)\n",
    "\n",
    "    out_dir = f'./out/{dataset_name}/'\n",
    "\n",
    "    model.compile(loss='categorical_crossentropy', \n",
    "                  optimizer=Adam(lr=lr_schedule(0)), \n",
    "                  metrics=['accuracy'])\n",
    "\n",
    "    history = model.fit(X_train, y_train,\n",
    "              batch_size=batch_size,\n",
    "              epochs=training_epochs,\n",
    "              verbose=False)\n",
    "\n",
    "    model.save(out_dir+f'{dataset_name}_{model_type}_{heads}heads')\n",
    "\n",
    "    ### -----------------------------t-e-s-t----------------------------------- ###\n",
    "    print('---Testing---')\n",
    "    scores = model.evaluate(X_test, y_test, verbose=1)\n",
    "    acc.append(scores[1] * 100)\n",
    "    print(f'Score: {model.metrics_names[1]} of {scores[1]*100}%')\n"
   ]
  },
  {
   "cell_type": "code",
   "execution_count": 66,
   "metadata": {},
   "outputs": [
    {
     "data": {
      "image/png": "[encoded data removed]",
      "text/plain": [
       "<Figure size 432x288 with 1 Axes>"
      ]
     },
     "metadata": {
      "needs_background": "light"
     },
     "output_type": "display_data"
    }
   ],
   "source": [
    "fig = plt.figure()\n",
    "\n",
    "x = [1,2,4,8]\n",
    "\n",
    "plt.plot(x, acc, 'g.-', markersize=10)\n",
    "\n",
    "plt.xlabel('Number of heads')\n",
    "plt.xlim([1,8])\n",
    "plt.ylabel('Accuracy')\n",
    "plt.ylim([0, 110])\n",
    "plt.title('Accuracy according to number of heads in transformer')\n",
    "\n",
    "plt.show()"
   ]
  },
  {
   "cell_type": "code",
   "execution_count": null,
   "metadata": {},
   "outputs": [],
   "source": []
  },
  {
   "cell_type": "code",
   "execution_count": null,
   "metadata": {},
   "outputs": [],
   "source": []
  },
  {
   "cell_type": "code",
   "execution_count": null,
   "metadata": {},
   "outputs": [],
   "source": []
  },
  {
   "cell_type": "code",
   "execution_count": null,
   "metadata": {},
   "outputs": [],
   "source": []
  },
  {
   "cell_type": "code",
   "execution_count": null,
   "metadata": {},
   "outputs": [],
   "source": []
  }
 ],
 "metadata": {
  "kernelspec": {
   "display_name": "Python 3",
   "language": "python",
   "name": "python3"
  },
  "language_info": {
   "codemirror_mode": {
    "name": "ipython",
    "version": 3
   },
   "file_extension": ".py",
   "mimetype": "text/x-python",
   "name": "python",
   "nbconvert_exporter": "python",
   "pygments_lexer": "ipython3",
   "version": "3.8.10"
  }
 },
 "nbformat": 4,
 "nbformat_minor": 2
}
